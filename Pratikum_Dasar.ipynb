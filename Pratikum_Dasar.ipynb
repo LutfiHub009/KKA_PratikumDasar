{
  "nbformat": 4,
  "nbformat_minor": 0,
  "metadata": {
    "colab": {
      "provenance": [],
      "authorship_tag": "ABX9TyP87QGvnPuol3YUuSYHRFSv",
      "include_colab_link": true
    },
    "kernelspec": {
      "name": "python3",
      "display_name": "Python 3"
    },
    "language_info": {
      "name": "python"
    }
  },
  "cells": [
    {
      "cell_type": "markdown",
      "metadata": {
        "id": "view-in-github",
        "colab_type": "text"
      },
      "source": [
        "<a href=\"https://colab.research.google.com/github/LutfiHub009/KKA_PratikumDasar/blob/main/Pratikum_Dasar.ipynb\" target=\"_parent\"><img src=\"https://colab.research.google.com/assets/colab-badge.svg\" alt=\"Open In Colab\"/></a>"
      ]
    },
    {
      "cell_type": "code",
      "source": [
        "# nomor 1\n",
        "variabel_int = 16\n",
        "variabel_float = 6.7\n",
        "variabel_str = \"Halo jawa!\"\n",
        "variabel_list = [1, 2, 3, \"a\", \"b\"]\n",
        "\n",
        "# menampilkan tipe datanya dengan fungsi type().\n",
        "print(type(variabel_int))\n",
        "print(type(variabel_float))\n",
        "print(type(variabel_str))\n",
        "print(type(variabel_list))"
      ],
      "metadata": {
        "id": "-q5DbLKOHxFa"
      },
      "execution_count": null,
      "outputs": []
    },
    {
      "cell_type": "code",
      "source": [
        "# nomor 2\n",
        "# list belanja (beras, minyak, dan telur).\n",
        "list_belanja = [\"beras\", \"minyak\", \"telur\"]\n",
        "\n",
        "# menambahkan item gula dan kopi menggunakan fungsi.\n",
        "list_belanja.append(\"gula\")\n",
        "list_belanja.append(\"kopi\")\n",
        "\n",
        "# menampilkan semua item dengan perulangan.\n",
        "print(\"Daftar Belanja:\")\n",
        "for item in list_belanja:\n",
        "  print(item)"
      ],
      "metadata": {
        "id": "hxzj-CmVIG8S"
      },
      "execution_count": null,
      "outputs": []
    },
    {
      "cell_type": "code",
      "source": [
        "# nomor 3\n",
        "# dictionary harga belanjaan:\n",
        "harga_belanjaan = {\n",
        "    \"beras\": 12000,\n",
        "    \"minyak\": 17000,\n",
        "    \"telur\": 24000,\n",
        "    \"gula\": 15000,\n",
        "    \"kopi\": 20000\n",
        "}\n",
        "\n",
        "# menampilkan total harga semua belanjaan.\n",
        "total_harga = sum(harga_belanjaan.values())\n",
        "print(f\"Total harga semua belanjaan: {total_harga}\")"
      ],
      "metadata": {
        "id": "vQGw_uS0ZmUI"
      },
      "execution_count": null,
      "outputs": []
    },
    {
      "cell_type": "code",
      "source": [
        "# nomor 4\n",
        "import math\n",
        "\n",
        "def hitung_lingkaran(jari_jari):\n",
        "  \"\"\"\n",
        "  Menghitung luas dan keliling lingkaran.\n",
        "\n",
        "  Args:\n",
        "    jari_jari: Jari-jari lingkaran.\n",
        "\n",
        "  Returns:\n",
        "    Tuple berisi luas dan keliling lingkaran.\n",
        "  \"\"\"\n",
        "  luas = math.pi * (jari_jari ** 2)\n",
        "  keliling = 2 * math.pi * jari_jari\n",
        "  return luas, keliling\n",
        "\n",
        "# penggunaan fungsi:\n",
        "jari_jari_lingkaran = 7\n",
        "luas_lingkaran, keliling_lingkaran = hitung_lingkaran(jari_jari_lingkaran)\n",
        "\n",
        "print(f\"Jari-jari lingkaran: {jari_jari_lingkaran}\")\n",
        "print(f\"Luas lingkaran: {luas_lingkaran:.2f}\")\n",
        "print(f\"Keliling lingkaran: {keliling_lingkaran:.2f}\")"
      ],
      "metadata": {
        "id": "I5atoDZtZ0Sh"
      },
      "execution_count": null,
      "outputs": []
    },
    {
      "cell_type": "code",
      "source": [
        "# nomor 5\n",
        "# Minta pengguna memasukkan usia\n",
        "usia = int(input(\"Masukkan usia Anda: \"))\n",
        "\n",
        "# Tampilkan kategori usia\n",
        "if 0 <= usia <= 13:\n",
        "  print(\"Anak\")\n",
        "elif 14 <= usia <= 24:\n",
        "  print(\"Remaja\")\n",
        "elif 25 <= usia <= 49:\n",
        "  print(\"Dewasa\")\n",
        "else:\n",
        "  print(\"Lansia\")"
      ],
      "metadata": {
        "id": "GZw09QkpaWgH"
      },
      "execution_count": null,
      "outputs": []
    }
  ]
}